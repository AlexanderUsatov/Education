{
 "cells": [
  {
   "cell_type": "code",
   "execution_count": 1,
   "metadata": {},
   "outputs": [
    {
     "name": "stdout",
     "output_type": "stream",
     "text": [
      "Vertexes:  [0, 1, 2, 3, 4, 5, 6, 7]\n",
      "Edges:     [(0, 1), (0, 7), (1, 7), (2, 0), (2, 6), (3, 2), (3, 5), (5, 4), (5, 6), (6, 3), (6, 7), (7, 4)]\n"
     ]
    }
   ],
   "source": [
    "path = 'g.txt'\n",
    "V = []\n",
    "E = []\n",
    "\n",
    "with open(path) as f:\n",
    "    for i in range(int(f.readline().strip())):\n",
    "        V.append(i)\n",
    "    while True:\n",
    "        s = f.readline().strip().split(' ')\n",
    "        if s == ['']:\n",
    "            break\n",
    "        E.append((int(s[0]) - 1, int(s[1]) - 1))\n",
    "        \n",
    "print('Vertexes: ', V)\n",
    "print('Edges:    ', E)"
   ]
  },
  {
   "cell_type": "code",
   "execution_count": 2,
   "metadata": {},
   "outputs": [
    {
     "name": "stdout",
     "output_type": "stream",
     "text": [
      "[{1, 2, 5, 6, 7}, {1, 2, 3, 5, 7}, {0, 3, 5, 6, 7}, {0, 3, 4, 6, 7}, {0, 2, 5, 6, 7}, {0, 2, 3, 5, 7}, {0, 1, 3, 4, 6}, {1, 2, 4, 5, 6, 7}, {1, 2, 3, 5, 6, 7}, {1, 2, 3, 4, 6, 7}, {1, 2, 3, 4, 5, 7}, {0, 3, 4, 5, 6, 7}, {0, 2, 4, 5, 6, 7}, {0, 2, 3, 5, 6, 7}, {0, 2, 3, 4, 6, 7}, {0, 2, 3, 4, 5, 7}, {0, 1, 3, 5, 6, 7}, {0, 1, 3, 4, 6, 7}, {0, 1, 3, 4, 5, 6}, {0, 1, 2, 5, 6, 7}, {0, 1, 2, 4, 5, 6}, {0, 1, 2, 3, 5, 7}, {0, 1, 2, 3, 4, 6}, {1, 2, 3, 4, 5, 6, 7}, {0, 2, 3, 4, 5, 6, 7}, {0, 1, 3, 4, 5, 6, 7}, {0, 1, 2, 4, 5, 6, 7}, {0, 1, 2, 3, 5, 6, 7}, {0, 1, 2, 3, 4, 6, 7}, {0, 1, 2, 3, 4, 5, 7}, {0, 1, 2, 3, 4, 5, 6}, {0, 1, 2, 3, 4, 5, 6, 7}]\n"
     ]
    }
   ],
   "source": [
    "answers = []\n",
    "for i in range(2 ** len(V)):\n",
    "    curr = ('0' * (len(V) - len(str(bin(i))[2:])) + str(bin(i))[2:])\n",
    "    verts = set()\n",
    "    for j in range(len(curr)):\n",
    "        if curr[j] == '1':\n",
    "            verts.add(j)\n",
    "    for e in E:\n",
    "        if not (e[0] in verts or e[1] in verts):\n",
    "            break\n",
    "    else:\n",
    "        answers.append(verts)\n",
    "\n",
    "answers.sort(key=lambda x : len(x))\n",
    "print(answers)"
   ]
  },
  {
   "cell_type": "code",
   "execution_count": 3,
   "metadata": {},
   "outputs": [],
   "source": [
    "def build_di_G(count_v, edges):\n",
    "    G = [[] for i in range(count_v)]\n",
    "    for e in edges:\n",
    "        G[e[0]].append(e[1])\n",
    "    return G"
   ]
  },
  {
   "cell_type": "code",
   "execution_count": 4,
   "metadata": {},
   "outputs": [],
   "source": [
    "def build_G(count_v, edges):\n",
    "    G = [[] for i in range(count_v)]\n",
    "    for e in edges:\n",
    "        G[e[0]].append(e[1])\n",
    "        G[e[1]].append(e[0])\n",
    "    return G"
   ]
  },
  {
   "cell_type": "code",
   "execution_count": 5,
   "metadata": {},
   "outputs": [],
   "source": [
    "def get_all_edges(v):\n",
    "    for k in range(2 ** (v * (v - 1) // 2)):\n",
    "        s = '0' * ((v * (v - 1) // 2) - len(str(bin(k))[2:])) + str(bin(k))[2:]\n",
    "        edges = []\n",
    "        for i in range(v - 1):\n",
    "                for j in range(v - (i + 1)):\n",
    "                    if s[(2 * v - 1 - i) * i // 2 + j] == '1':\n",
    "                        edges.append((i, i + 1 + j))\n",
    "        yield edges"
   ]
  },
  {
   "cell_type": "code",
   "execution_count": 6,
   "metadata": {},
   "outputs": [],
   "source": [
    "def pos_max(arr):\n",
    "    imax = 0\n",
    "    for i in range(1, len(arr)):\n",
    "        if arr[i] > arr[imax]:\n",
    "            imax = i\n",
    "    return imax"
   ]
  },
  {
   "cell_type": "code",
   "execution_count": 7,
   "metadata": {},
   "outputs": [],
   "source": [
    "from math import inf\n",
    "\n",
    "def my_evr(g):\n",
    "    priors = [len(g[i]) for i in range(len(g))]\n",
    "    ans = []\n",
    "    sum_d = sum([len(i) for i in g])\n",
    "    count_ = 0\n",
    "    while 2 * count_ < sum_d:\n",
    "        max_ = pos_max(priors)\n",
    "        count_ += priors[max_]\n",
    "        priors[max_] = -inf\n",
    "        ans.append(max_)\n",
    "        for i in g[max_]:\n",
    "            priors[i] -= 1\n",
    "    return ans"
   ]
  },
  {
   "cell_type": "code",
   "execution_count": 8,
   "metadata": {},
   "outputs": [
    {
     "name": "stdout",
     "output_type": "stream",
     "text": [
      "[6, 0, 3, 4, 1]\n"
     ]
    }
   ],
   "source": [
    "my_evr(build_G(8, E))\n",
    "print(my_evr(build_G(8, E)))"
   ]
  },
  {
   "cell_type": "code",
   "execution_count": 9,
   "metadata": {},
   "outputs": [],
   "source": [
    "def brute_force(v, E):\n",
    "    V = [i for i in range(v)]\n",
    "    answers = []\n",
    "    for i in range(2 ** len(V)):\n",
    "        curr = ('0' * (len(V) - len(str(bin(i))[2:])) + str(bin(i))[2:])\n",
    "        verts = set()\n",
    "        for j in range(len(curr)):\n",
    "            if curr[j] == '1':\n",
    "                verts.add(j)\n",
    "        for e in E:\n",
    "            if not (e[0] in verts or e[1] in verts):\n",
    "                break\n",
    "        else:\n",
    "            answers.append(verts)\n",
    "\n",
    "    return min(answers, key=lambda x: len(x))"
   ]
  },
  {
   "cell_type": "code",
   "execution_count": 10,
   "metadata": {},
   "outputs": [
    {
     "name": "stdout",
     "output_type": "stream",
     "text": [
      "1.0084388185654007\n",
      "1.5\n"
     ]
    }
   ],
   "source": [
    "my_count = 0\n",
    "bf_count = 0\n",
    "max_ = 0\n",
    "for e in get_all_edges(5):\n",
    "    m = len(my_evr(build_G(5, e)))\n",
    "    bf = len(brute_force(5, e))\n",
    "    my_count += m\n",
    "    bf_count += bf\n",
    "    if bf: # если 0, то в графе просто нет рёбер\n",
    "        max_ = max(m / bf, max_)\n",
    "print(my_count / bf_count if bf_count > 0 else 'no edges in graph')\n",
    "print(max_)"
   ]
  },
  {
   "cell_type": "code",
   "execution_count": null,
   "metadata": {},
   "outputs": [],
   "source": []
  }
 ],
 "metadata": {
  "kernelspec": {
   "display_name": "Python 3",
   "language": "python",
   "name": "python3"
  },
  "language_info": {
   "codemirror_mode": {
    "name": "ipython",
    "version": 3
   },
   "file_extension": ".py",
   "mimetype": "text/x-python",
   "name": "python",
   "nbconvert_exporter": "python",
   "pygments_lexer": "ipython3",
   "version": "3.7.1"
  }
 },
 "nbformat": 4,
 "nbformat_minor": 2
}

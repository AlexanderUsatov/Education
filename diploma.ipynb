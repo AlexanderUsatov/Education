{
 "cells": [
  {
   "cell_type": "code",
   "execution_count": 2,
   "metadata": {
    "collapsed": true,
    "pycharm": {
     "is_executing": false,
     "name": "#%% METHOD 1 - AVG\n"
    }
   },
   "outputs": [],
   "source": [
    "import cv2\n",
    "from time import sleep\n",
    "\n",
    "def middle(f1, f2):\n",
    "    return f1 // 2 + f2 // 2\n",
    "\n",
    "cap = cv2.VideoCapture('/Users/alexanderusatov/Documents/diploma/dog.mp4')\n",
    "out = cv2.VideoWriter('/Users/alexanderusatov/Documents/diploma/avg.mp4', cv2.VideoWriter_fourcc(*'MJPG'), 25.0, (288, 360))\n",
    "\n",
    "prev = None\n",
    "\n",
    "while cap.isOpened():\n",
    "    ret, frame = cap.read()\n",
    "    if not ret:\n",
    "        break\n",
    "    if prev is None:\n",
    "        prev = frame\n",
    "        out.write(frame)\n",
    "        continue\n",
    "    out.write(middle(prev, frame))\n",
    "    out.write(frame)\n",
    "    prev = frame\n",
    "cap.release()\n",
    "out.release()\n",
    "cv2.destroyAllWindows()\n",
    "exit(0)"
   ]
  },
  {
   "cell_type": "code",
   "execution_count": null,
   "outputs": [
    {
     "name": "stderr",
     "text": [
      "/Users/alexanderusatov/opt/anaconda3/lib/python3.7/site-packages/ipykernel_launcher.py:20: RuntimeWarning: overflow encountered in ubyte_scalars\n"
     ],
     "output_type": "stream"
    }
   ],
   "source": [
    "from google.colab import drive\n",
    "drive.mount(\"/content/gdrive\")\n",
    "\n",
    "import numpy as np\n",
    "import cv2\n",
    "from sys import exit\n",
    "\n",
    "def perc_hash(f, y, x, r):\n",
    "    h = np.zeros((2 * r + 1, 2 * r + 1, 3), dtype='uint8')\n",
    "    for i in range(-r, r + 1):\n",
    "        if y + r < 0 or y + r >= f.shape[0] or i == 0:\n",
    "            continue\n",
    "        for j in range(-r, r + 1):\n",
    "            if x + r < 0 or x + r >= f.shape[1] or j == 0:\n",
    "                continue\n",
    "            h[r + i][r + j] = f[y + i][x + j]\n",
    "    return h\n",
    "\n",
    "\n",
    "# calculate delta between two hashes\n",
    "def delta(h1, h2):\n",
    "    sum_: int = 0\n",
    "    for i in range(0, h1.shape[0]):\n",
    "        for j in range(0, h1.shape[1]):\n",
    "            for k in range(0, h1.shape[2]):\n",
    "                sum_ += abs(int(h1[i][j][k]) - int(h2[i][j][k]))\n",
    "    return sum_\n",
    "\n",
    "\n",
    "# for point y x find new point y1 x1\n",
    "def get_match(h, f, y, x, r):\n",
    "    res = np.zeros(h.shape, dtype='uint8')\n",
    "    yres, xres = y, x\n",
    "    for i in range(max(y - r, 0), min(y + r, f.shape[0])):\n",
    "        for j in range(max(x - r, 0), min(x + r, f.shape[1])):\n",
    "            hfyx = perc_hash(f, y + i, x + j, r)\n",
    "            if delta(h, hfyx) < delta(h, res):\n",
    "                res, yres, xres = hfyx, i, j\n",
    "    return yres, xres\n",
    "\n",
    "\n",
    "# will return maxtrix: y1 x1 -> y2 x2\n",
    "def get_new_coord(f1, f2, r):\n",
    "    res = np.zeros((f1.shape[0], f1.shape[1], 2), dtype='uint16')\n",
    "    for i in range(0, f1.shape[0]):\n",
    "        for j in range(0, f1.shape[1]):\n",
    "            res[i][j] = get_match(perc_hash(f2, i, j, r), f2, i, j, r)\n",
    "    return res\n",
    "\n",
    "\n",
    "def next_frame(f, d):\n",
    "    res = f.copy()\n",
    "    for i in range(f.shape[0]):\n",
    "        for j in range(f.shape[1]):\n",
    "            res[i][j] = f[i][j] // 2 + f[d[i][j][0]][d[i][j][1]] // 2\n",
    "    return res\n",
    "\n",
    "\n",
    "def middle(prev, frame, r):\n",
    "    return next_frame(prev, get_new_coord(prev, frame, r))\n",
    "\n",
    "\n",
    "cap = cv2.VideoCapture('gdrive/My Drive/original.mp4')\n",
    "out = cv2.VideoWriter('gdrive/My Drive/res.mp4', cv2.VideoWriter_fourcc(*'MJPG'), 25.0, (288, 360))\n",
    "\n",
    "prev = None\n",
    "\n",
    "img = 1\n",
    "while cap.isOpened():\n",
    "    ret, frame = cap.read()\n",
    "    if cv2.waitKey(1) == ord('q') or not ret:\n",
    "        break\n",
    "    if prev is None:\n",
    "        prev = frame\n",
    "        out.write(frame)\n",
    "        continue\n",
    "    out.write(middle(prev, frame, 1))\n",
    "    out.write(frame)\n",
    "    print(img)\n",
    "    img += 1\n",
    "    prev = frame\n",
    "    \n",
    "out.release()\n",
    "cap.release()\n",
    "cv2.destroyAllWindows()\n",
    "print('end')\n",
    "exit(0)\n"
   ],
   "metadata": {
    "collapsed": false,
    "pycharm": {
     "name": "#%% METHOD 2 - PHASH\n",
     "is_executing": true
    }
   }
  },
  {
   "cell_type": "code",
   "execution_count": 1,
   "outputs": [],
   "source": [
    "def show_video(path : str, interval):\n",
    "    import cv2\n",
    "    from time import sleep\n",
    "    \n",
    "    cap = cv2.VideoCapture(path)\n",
    "    while cap.isOpened():\n",
    "        ret, frame = cap.read()\n",
    "        if not ret or cv2.waitKey(1) == ord('q'):\n",
    "            break\n",
    "        cv2.imshow(path.split('/')[-1], frame)\n",
    "        sleep(interval)\n",
    "    cv2.destroyAllWindows()\n",
    "    exit(0)"
   ],
   "metadata": {
    "collapsed": false,
    "pycharm": {
     "name": "#%%\n",
     "is_executing": false
    }
   }
  },
  {
   "cell_type": "code",
   "execution_count": 2,
   "outputs": [],
   "source": [
    "show_video('/Users/alexanderusatov/Documents/diploma/original.mp4', 1 / 25)"
   ],
   "metadata": {
    "collapsed": false,
    "pycharm": {
     "name": "#%%\n",
     "is_executing": false
    }
   }
  },
  {
   "cell_type": "code",
   "execution_count": null,
   "outputs": [],
   "source": [
    "show_video('/Users/alexanderusatov/Documents/diploma/avg.mp4', 1 / 25)"
   ],
   "metadata": {
    "collapsed": false,
    "pycharm": {
     "name": "#%%\n",
     "is_executing": true
    }
   }
  },
  {
   "cell_type": "code",
   "execution_count": null,
   "outputs": [],
   "source": [
    "show_video('/Users/alexanderusatov/Documents/diploma/phash.mp4', 1 / 25)"
   ],
   "metadata": {
    "collapsed": false,
    "pycharm": {
     "name": "#%%\n"
    }
   }
  },
  {
   "cell_type": "code",
   "execution_count": 1,
   "outputs": [],
   "source": [
    "def show_results(interval):\n",
    "    import cv2\n",
    "    from time import sleep\n",
    "    \n",
    "    avg, original, phash = '/Users/alexanderusatov/Documents/diploma/avg.mp4', \\\n",
    "                           '/Users/alexanderusatov/Documents/diploma/original.mp4', \\\n",
    "                           '/Users/alexanderusatov/Documents/diploma/phash.mp4'\n",
    "    \n",
    "    avg = cv2.VideoCapture(avg)\n",
    "    original = cv2.VideoCapture(original)\n",
    "    phash = cv2.VideoCapture(phash)\n",
    "    frame_number = 0\n",
    "    while True:\n",
    "        ret1, frame1 = avg.read()\n",
    "        if frame_number % 2 == 0:\n",
    "            ret2, frame2 = original.read()\n",
    "        ret3, frame3 = phash.read()\n",
    "        frame_number += 1\n",
    "        if not ret1 or not ret2 or not ret3 or cv2.waitKey(1) == ord('q'):\n",
    "            break\n",
    "        cv2.imshow('avg', frame1)\n",
    "        cv2.imshow('original', frame2)\n",
    "        cv2.imshow('phash', frame3)\n",
    "        sleep(interval)\n",
    "    cv2.destroyAllWindows()\n",
    "    exit(0)\n",
    "\n",
    "show_results(1 / 25)"
   ],
   "metadata": {
    "collapsed": false,
    "pycharm": {
     "name": "#%%\n",
     "is_executing": false
    }
   }
  },
  {
   "cell_type": "code",
   "execution_count": null,
   "outputs": [],
   "source": [
    "\n"
   ],
   "metadata": {
    "collapsed": false,
    "pycharm": {
     "name": "#%%\n"
    }
   }
  }
 ],
 "metadata": {
  "kernelspec": {
   "name": "pycharm-c401f940",
   "language": "python",
   "display_name": "PyCharm (Test)"
  },
  "language_info": {
   "codemirror_mode": {
    "name": "ipython",
    "version": 2
   },
   "file_extension": ".py",
   "mimetype": "text/x-python",
   "name": "python",
   "nbconvert_exporter": "python",
   "pygments_lexer": "ipython2",
   "version": "2.7.6"
  },
  "pycharm": {
   "stem_cell": {
    "cell_type": "raw",
    "source": [],
    "metadata": {
     "collapsed": false
    }
   }
  }
 },
 "nbformat": 4,
 "nbformat_minor": 0
}